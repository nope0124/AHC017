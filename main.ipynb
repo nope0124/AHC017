{
 "cells": [
  {
   "cell_type": "code",
   "execution_count": 1,
   "id": "d53e896b",
   "metadata": {},
   "outputs": [],
   "source": [
    "from pathlib import Path\n",
    "Path(\"out/\").mkdir(parents=True, exist_ok=True)"
   ]
  },
  {
   "cell_type": "code",
   "execution_count": null,
   "id": "6f92fc4b",
   "metadata": {
    "scrolled": false
   },
   "outputs": [
    {
     "name": "stdout",
     "output_type": "stream",
     "text": [
      "\u001b[1mmain.cpp:32:29: \u001b[0m\u001b[0;1;35mwarning: \u001b[0m\u001b[1mdefault member initializer for non-static data member is a C++11 extension [-Wc++11-extensions]\u001b[0m\n",
      "    Road_Status road_status = Unconstructed;\n",
      "\u001b[0;1;32m                            ^\n",
      "\u001b[0m\u001b[1mmain.cpp:95:36: \u001b[0m\u001b[0;1;35mwarning: \u001b[0m\u001b[1mrange-based for loop is a C++11 extension [-Wc++11-extensions]\u001b[0m\n",
      "                for(Dijkstra_Edge e: graph[v]){\n",
      "\u001b[0;1;32m                                   ^\n",
      "\u001b[0m\u001b[1mmain.cpp:174:18: \u001b[0m\u001b[0;1;35mwarning: \u001b[0m\u001b[1mrange-based for loop is a C++11 extension [-Wc++11-extensions]\u001b[0m\n",
      "        for(ll k : st) {\n",
      "\u001b[0;1;32m                 ^\n",
      "\u001b[0m\u001b[1mmain.cpp:289:5: \u001b[0m\u001b[0;1;35mwarning: \u001b[0m\u001b[1mnon-void function does not return a value in all control paths [-Wreturn-type]\u001b[0m\n",
      "    }\n",
      "\u001b[0;1;32m    ^\n",
      "\u001b[0m4 warnings generated.\n",
      "Seed_0000: 11897267\n",
      "Seed_0001: 16056892\n",
      "Seed_0002: 85512411\n",
      "Seed_0003: 28652595\n",
      "Seed_0004: 16633452\n",
      "Seed_0005: 6371200\n",
      "Seed_0006: 8344910\n",
      "Seed_0007: 13498373\n",
      "Seed_0008: 7342147\n",
      "Seed_0009: 18194013\n",
      "Seed_0010: 72594714\n",
      "Seed_0011: 19314577\n",
      "Seed_0012: 156323609\n",
      "Seed_0013: 4814907\n",
      "Seed_0014: 20503052\n",
      "Seed_0015: 14553307\n",
      "Seed_0016: 12077484\n",
      "Seed_0017: 12782912\n",
      "Seed_0018: 5777440\n",
      "Seed_0019: 18387302\n",
      "Seed_0020: 22048085\n",
      "Seed_0021: 152408888\n",
      "Seed_0022: 25690007\n",
      "Seed_0023: 67471396\n",
      "Seed_0024: 9395990\n",
      "Seed_0025: 11766822\n",
      "Seed_0026: 18304975\n",
      "Seed_0027: 10579621\n",
      "Seed_0028: 9906755\n",
      "Seed_0029: 6625830\n",
      "Seed_0030: 4868061\n",
      "Seed_0031: 18746438\n",
      "Seed_0032: 317444090\n",
      "Seed_0033: 27274013\n",
      "Seed_0034: 107571028\n",
      "Seed_0035: 4134187\n",
      "Seed_0036: 119034923\n",
      "Seed_0037: 3955866\n",
      "Seed_0038: 9162133\n",
      "Seed_0039: 10885948\n",
      "Seed_0040: 12702147\n",
      "Seed_0041: 77857971\n",
      "Seed_0042: 14691653\n",
      "Seed_0043: 89796908\n",
      "Seed_0044: 6076320\n",
      "Seed_0045: 17706077\n",
      "Seed_0046: 11795764\n",
      "Seed_0047: 6583582\n",
      "Seed_0048: 41839360\n"
     ]
    }
   ],
   "source": [
    "!(g++ main.cpp)\n",
    "# 確率\n",
    "num = 100\n",
    "sum = 0\n",
    "debug = False\n",
    "for i in range(num):\n",
    "    in_path = \"in/{}.txt\".format(str(i).zfill(4))\n",
    "    out_path = \"out/{}.txt\".format(str(i).zfill(4))\n",
    "    if debug == True:\n",
    "        print(\"Seed_{}: \".format(str(i).zfill(4)))\n",
    "        !(./a.out < $in_path > $out_path)\n",
    "    else:\n",
    "        ans = !(./a.out < $in_path > $out_path)\n",
    "        print(\"Seed_{}: \".format(str(i).zfill(4)) + ans[0])\n",
    "        sum += int(ans[0])\n",
    "print(\"Score: \" + str(sum))"
   ]
  },
  {
   "cell_type": "code",
   "execution_count": null,
   "id": "cb5f4c91",
   "metadata": {},
   "outputs": [],
   "source": []
  },
  {
   "cell_type": "code",
   "execution_count": null,
   "id": "0f37bd7e",
   "metadata": {},
   "outputs": [],
   "source": []
  },
  {
   "cell_type": "code",
   "execution_count": null,
   "id": "915dfc31",
   "metadata": {},
   "outputs": [],
   "source": []
  },
  {
   "cell_type": "code",
   "execution_count": null,
   "id": "1d7948fe",
   "metadata": {},
   "outputs": [],
   "source": []
  },
  {
   "cell_type": "code",
   "execution_count": null,
   "id": "7977a588",
   "metadata": {},
   "outputs": [],
   "source": []
  }
 ],
 "metadata": {
  "kernelspec": {
   "display_name": "Python 3",
   "language": "python",
   "name": "python3"
  },
  "language_info": {
   "codemirror_mode": {
    "name": "ipython",
    "version": 3
   },
   "file_extension": ".py",
   "mimetype": "text/x-python",
   "name": "python",
   "nbconvert_exporter": "python",
   "pygments_lexer": "ipython3",
   "version": "3.8.8"
  }
 },
 "nbformat": 4,
 "nbformat_minor": 5
}
