{
 "cells": [
  {
   "cell_type": "code",
   "execution_count": 1,
   "id": "d53e896b",
   "metadata": {},
   "outputs": [],
   "source": [
    "from pathlib import Path\n",
    "Path(\"out/\").mkdir(parents=True, exist_ok=True)"
   ]
  },
  {
   "cell_type": "code",
   "execution_count": 1,
   "id": "6f92fc4b",
   "metadata": {
    "scrolled": false
   },
   "outputs": [
    {
     "name": "stdout",
     "output_type": "stream",
     "text": [
      "\u001b[1mmain.cpp:32:29: \u001b[0m\u001b[0;1;35mwarning: \u001b[0m\u001b[1mdefault member initializer for non-static data member is a C++11 extension [-Wc++11-extensions]\u001b[0m\n",
      "    Road_Status road_status = Unconstructed;\n",
      "\u001b[0;1;32m                            ^\n",
      "\u001b[0m\u001b[1mmain.cpp:98:36: \u001b[0m\u001b[0;1;35mwarning: \u001b[0m\u001b[1mrange-based for loop is a C++11 extension [-Wc++11-extensions]\u001b[0m\n",
      "                for(Dijkstra_Edge e: graph[v]){\n",
      "\u001b[0;1;32m                                   ^\n",
      "\u001b[0m\u001b[1mmain.cpp:120:36: \u001b[0m\u001b[0;1;35mwarning: \u001b[0m\u001b[1mrange-based for loop is a C++11 extension [-Wc++11-extensions]\u001b[0m\n",
      "                for(Dijkstra_Edge e: graph[v]) {\n",
      "\u001b[0;1;32m                                   ^\n",
      "\u001b[0m\u001b[1mmain.cpp:142:32: \u001b[0m\u001b[0;1;35mwarning: \u001b[0m\u001b[1mrange-based for loop is a C++11 extension [-Wc++11-extensions]\u001b[0m\n",
      "            for(Dijkstra_Edge e: graph[v.to]) {\n",
      "\u001b[0;1;32m                               ^\n",
      "\u001b[0m4 warnings generated.\n",
      "Seed_0000: 10034454\n",
      "Seed_0001: 14337414\n",
      "Seed_0002: 59141288\n",
      "Seed_0003: 25592345\n",
      "Seed_0004: 15725578\n",
      "Seed_0005: 6192950\n",
      "Seed_0006: 7949510\n",
      "Seed_0007: 12801751\n",
      "Seed_0008: 7039885\n",
      "Seed_0009: 16306866\n",
      "Seed_0010: 43778032\n",
      "Seed_0011: 17898099\n",
      "Seed_0012: 110855544\n",
      "Seed_0013: 4472552\n",
      "Seed_0014: 18269341\n",
      "Seed_0015: 12602912\n",
      "Seed_0016: 12245414\n",
      "Seed_0017: 12346979\n",
      "Seed_0018: 5606125\n",
      "Seed_0019: 17755198\n",
      "Seed_0020: 18183932\n",
      "Seed_0021: 116602854\n",
      "Seed_0022: 23948410\n",
      "Seed_0023: 63456357\n",
      "Seed_0024: 8996681\n",
      "Seed_0025: 11400586\n",
      "Seed_0026: 16638750\n",
      "Seed_0027: 9730122\n",
      "Seed_0028: 9067489\n",
      "Seed_0029: 6405716\n",
      "Seed_0030: 4756487\n",
      "Seed_0031: 15846386\n",
      "Seed_0032: 180820638\n",
      "Seed_0033: 22115087\n",
      "Seed_0034: 101483581\n",
      "Seed_0035: 3851485\n",
      "Seed_0036: 86352323\n",
      "Seed_0037: 3814306\n",
      "Seed_0038: 8793654\n",
      "Seed_0039: 9785719\n",
      "Seed_0040: 11578812\n",
      "Seed_0041: 60194275\n",
      "Seed_0042: 14390847\n",
      "Seed_0043: 62019265\n",
      "Seed_0044: 6023605\n",
      "Seed_0045: 16882397\n",
      "Seed_0046: 10237817\n",
      "^C\n"
     ]
    },
    {
     "ename": "IndexError",
     "evalue": "list index out of range",
     "output_type": "error",
     "traceback": [
      "\u001b[0;31m---------------------------------------------------------------------------\u001b[0m",
      "\u001b[0;31mIndexError\u001b[0m                                Traceback (most recent call last)",
      "\u001b[0;32m<ipython-input-1-bd3ebff21957>\u001b[0m in \u001b[0;36m<module>\u001b[0;34m\u001b[0m\n\u001b[1;32m     13\u001b[0m     \u001b[0;32melse\u001b[0m\u001b[0;34m:\u001b[0m\u001b[0;34m\u001b[0m\u001b[0;34m\u001b[0m\u001b[0m\n\u001b[1;32m     14\u001b[0m         \u001b[0mans\u001b[0m \u001b[0;34m=\u001b[0m \u001b[0mget_ipython\u001b[0m\u001b[0;34m(\u001b[0m\u001b[0;34m)\u001b[0m\u001b[0;34m.\u001b[0m\u001b[0mgetoutput\u001b[0m\u001b[0;34m(\u001b[0m\u001b[0;34m'(./a.out < $in_path > $out_path)'\u001b[0m\u001b[0;34m)\u001b[0m\u001b[0;34m\u001b[0m\u001b[0;34m\u001b[0m\u001b[0m\n\u001b[0;32m---> 15\u001b[0;31m         \u001b[0mprint\u001b[0m\u001b[0;34m(\u001b[0m\u001b[0;34m\"Seed_{}: \"\u001b[0m\u001b[0;34m.\u001b[0m\u001b[0mformat\u001b[0m\u001b[0;34m(\u001b[0m\u001b[0mstr\u001b[0m\u001b[0;34m(\u001b[0m\u001b[0mi\u001b[0m\u001b[0;34m)\u001b[0m\u001b[0;34m.\u001b[0m\u001b[0mzfill\u001b[0m\u001b[0;34m(\u001b[0m\u001b[0;36m4\u001b[0m\u001b[0;34m)\u001b[0m\u001b[0;34m)\u001b[0m \u001b[0;34m+\u001b[0m \u001b[0mans\u001b[0m\u001b[0;34m[\u001b[0m\u001b[0;36m0\u001b[0m\u001b[0;34m]\u001b[0m\u001b[0;34m)\u001b[0m\u001b[0;34m\u001b[0m\u001b[0;34m\u001b[0m\u001b[0m\n\u001b[0m\u001b[1;32m     16\u001b[0m         \u001b[0msum\u001b[0m \u001b[0;34m+=\u001b[0m \u001b[0mint\u001b[0m\u001b[0;34m(\u001b[0m\u001b[0mans\u001b[0m\u001b[0;34m[\u001b[0m\u001b[0;36m0\u001b[0m\u001b[0;34m]\u001b[0m\u001b[0;34m)\u001b[0m\u001b[0;34m\u001b[0m\u001b[0;34m\u001b[0m\u001b[0m\n\u001b[1;32m     17\u001b[0m \u001b[0mprint\u001b[0m\u001b[0;34m(\u001b[0m\u001b[0;34m\"Score: \"\u001b[0m \u001b[0;34m+\u001b[0m \u001b[0mstr\u001b[0m\u001b[0;34m(\u001b[0m\u001b[0msum\u001b[0m\u001b[0;34m)\u001b[0m\u001b[0;34m)\u001b[0m\u001b[0;34m\u001b[0m\u001b[0;34m\u001b[0m\u001b[0m\n",
      "\u001b[0;31mIndexError\u001b[0m: list index out of range"
     ]
    }
   ],
   "source": [
    "!(g++ main.cpp)\n",
    "# 確率\n",
    "num = 100\n",
    "sum = 0\n",
    "debug = False\n",
    "for i in range(num):\n",
    "#     i += 2\n",
    "    in_path = \"in/{}.txt\".format(str(i).zfill(4))\n",
    "    out_path = \"out/{}.txt\".format(str(i).zfill(4))\n",
    "    if debug == True:\n",
    "        print(\"Seed_{}: \".format(str(i).zfill(4)))\n",
    "        !(./a.out < $in_path > $out_path)\n",
    "    else:\n",
    "        ans = !(./a.out < $in_path > $out_path)\n",
    "        print(\"Seed_{}: \".format(str(i).zfill(4)) + ans[0])\n",
    "        sum += int(ans[0])\n",
    "print(\"Score: \" + str(sum))"
   ]
  },
  {
   "cell_type": "code",
   "execution_count": null,
   "id": "cb5f4c91",
   "metadata": {},
   "outputs": [],
   "source": [
    "!(g++ main.cpp)\n",
    "# 確率\n",
    "num = 10\n",
    "sum = 0\n",
    "debug = True\n",
    "for i in range(num):\n",
    "#     i += 2\n",
    "    in_path = \"in/{}.txt\".format(str(i).zfill(4))\n",
    "    out_path = \"out/{}.txt\".format(str(i).zfill(4))\n",
    "    if debug == True:\n",
    "        print(\"Seed_{}: \".format(str(i).zfill(4)))\n",
    "        !(./a.out < $in_path > $out_path)\n",
    "    else:\n",
    "        ans = !(./a.out < $in_path > $out_path)\n",
    "        print(\"Seed_{}: \".format(str(i).zfill(4)) + ans[0])\n",
    "        sum += int(ans[0])\n",
    "print(\"Score: \" + str(sum))"
   ]
  },
  {
   "cell_type": "code",
   "execution_count": null,
   "id": "0f37bd7e",
   "metadata": {},
   "outputs": [],
   "source": [
    "10246856"
   ]
  },
  {
   "cell_type": "code",
   "execution_count": null,
   "id": "915dfc31",
   "metadata": {},
   "outputs": [],
   "source": []
  },
  {
   "cell_type": "code",
   "execution_count": null,
   "id": "1d7948fe",
   "metadata": {},
   "outputs": [],
   "source": [
    "12 21 32 34 36 91 96"
   ]
  },
  {
   "cell_type": "code",
   "execution_count": 9,
   "id": "7977a588",
   "metadata": {},
   "outputs": [
    {
     "data": {
      "text/plain": [
       "56559885"
      ]
     },
     "execution_count": 9,
     "metadata": {},
     "output_type": "execute_result"
    }
   ],
   "source": [
    "56313530\n",
    "56436959\n",
    "56563222\n",
    "56565228\n",
    "56564361\n",
    "56559885"
   ]
  },
  {
   "cell_type": "code",
   "execution_count": null,
   "id": "f4f70ed1",
   "metadata": {},
   "outputs": [],
   "source": []
  },
  {
   "cell_type": "code",
   "execution_count": null,
   "id": "f9f383f5",
   "metadata": {},
   "outputs": [],
   "source": []
  }
 ],
 "metadata": {
  "kernelspec": {
   "display_name": "Python 3",
   "language": "python",
   "name": "python3"
  },
  "language_info": {
   "codemirror_mode": {
    "name": "ipython",
    "version": 3
   },
   "file_extension": ".py",
   "mimetype": "text/x-python",
   "name": "python",
   "nbconvert_exporter": "python",
   "pygments_lexer": "ipython3",
   "version": "3.8.8"
  }
 },
 "nbformat": 4,
 "nbformat_minor": 5
}
