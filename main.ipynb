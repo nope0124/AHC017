{
 "cells": [
  {
   "cell_type": "code",
   "execution_count": 1,
   "id": "d53e896b",
   "metadata": {},
   "outputs": [],
   "source": [
    "from pathlib import Path\n",
    "Path(\"out/\").mkdir(parents=True, exist_ok=True)"
   ]
  },
  {
   "cell_type": "code",
   "execution_count": 23,
   "id": "6f92fc4b",
   "metadata": {
    "scrolled": false
   },
   "outputs": [
    {
     "name": "stdout",
     "output_type": "stream",
     "text": [
      "\u001b[1mmain.cpp:32:29: \u001b[0m\u001b[0;1;35mwarning: \u001b[0m\u001b[1mdefault member initializer for non-static data member is a C++11 extension [-Wc++11-extensions]\u001b[0m\n",
      "    Road_Status road_status = Unconstructed;\n",
      "\u001b[0;1;32m                            ^\n",
      "\u001b[0m\u001b[1mmain.cpp:98:36: \u001b[0m\u001b[0;1;35mwarning: \u001b[0m\u001b[1mrange-based for loop is a C++11 extension [-Wc++11-extensions]\u001b[0m\n",
      "                for(Dijkstra_Edge e: graph[v]){\n",
      "\u001b[0;1;32m                                   ^\n",
      "\u001b[0m\u001b[1mmain.cpp:120:36: \u001b[0m\u001b[0;1;35mwarning: \u001b[0m\u001b[1mrange-based for loop is a C++11 extension [-Wc++11-extensions]\u001b[0m\n",
      "                for(Dijkstra_Edge e: graph[v]) {\n",
      "\u001b[0;1;32m                                   ^\n",
      "\u001b[0m\u001b[1mmain.cpp:142:32: \u001b[0m\u001b[0;1;35mwarning: \u001b[0m\u001b[1mrange-based for loop is a C++11 extension [-Wc++11-extensions]\u001b[0m\n",
      "            for(Dijkstra_Edge e: graph[v.to]) {\n",
      "\u001b[0;1;32m                               ^\n",
      "\u001b[0m4 warnings generated.\n",
      "Seed_0000: 9987571\n",
      "Seed_0001: 14455747\n",
      "Seed_0002: 58425037\n",
      "Seed_0003: 26016204\n",
      "Seed_0004: 15683303\n",
      "Seed_0005: 6166463\n",
      "Seed_0006: 7958220\n",
      "Seed_0007: 12821741\n",
      "Seed_0008: 7014711\n",
      "Seed_0009: 16505964\n",
      "Seed_0010: 47780073\n",
      "Seed_0011: 16954312\n",
      "Seed_0012: 119893748\n",
      "Seed_0013: 4509106\n",
      "Seed_0014: 18020506\n",
      "Seed_0015: 12443327\n",
      "Seed_0016: 11937671\n",
      "Seed_0017: 12475657\n",
      "Seed_0018: 5487408\n",
      "Seed_0019: 17593069\n",
      "Seed_0020: 18176118\n",
      "Seed_0021: 114859191\n",
      "Seed_0022: 24187679\n",
      "Seed_0023: 62283837\n",
      "Seed_0024: 8791249\n",
      "Seed_0025: 11664309\n",
      "Seed_0026: 17064867\n",
      "Seed_0027: 9823038\n",
      "Seed_0028: 9367486\n",
      "Seed_0029: 6295726\n",
      "Seed_0030: 4779397\n",
      "Seed_0031: 16053663\n",
      "Seed_0032: 160292683\n",
      "Seed_0033: 21972766\n",
      "Seed_0034: 86609671\n",
      "Seed_0035: 3837857\n",
      "Seed_0036: 89839297\n",
      "Seed_0037: 3826726\n",
      "Seed_0038: 8719212\n",
      "Seed_0039: 9742160\n",
      "Seed_0040: 11746336\n",
      "Seed_0041: 62904396\n",
      "Seed_0042: 14599342\n",
      "Seed_0043: 63130439\n",
      "Seed_0044: 5906559\n",
      "Seed_0045: 17027981\n",
      "Seed_0046: 10534640\n",
      "Seed_0047: 5973091\n",
      "Seed_0048: 39770478\n",
      "Seed_0049: 9648086\n",
      "Seed_0050: 6525946\n",
      "Seed_0051: 19889103\n",
      "Seed_0052: 3621466\n",
      "Seed_0053: 27657489\n",
      "Seed_0054: 6743006\n",
      "Seed_0055: 10003800\n",
      "Seed_0056: 10814848\n",
      "Seed_0057: 7744464\n",
      "Seed_0058: 15459631\n",
      "Seed_0059: 19246828\n",
      "Seed_0060: 21308666\n",
      "Seed_0061: 4490797\n",
      "Seed_0062: 25406599\n",
      "Seed_0063: 20704198\n",
      "Seed_0064: 34848815\n",
      "Seed_0065: 3128374\n",
      "Seed_0066: 33016436\n",
      "Seed_0067: 6356745\n",
      "Seed_0068: 15133535\n",
      "Seed_0069: 46021693\n",
      "Seed_0070: 14183643\n",
      "Seed_0071: 22114366\n",
      "Seed_0072: 19947543\n",
      "Seed_0073: 10464650\n",
      "Seed_0074: 6931410\n",
      "Seed_0075: 20735508\n",
      "Seed_0076: 29774596\n",
      "Seed_0077: 13141666\n",
      "Seed_0078: 6707223\n",
      "Seed_0079: 30249135\n",
      "Seed_0080: 15700641\n",
      "Seed_0081: 10830395\n",
      "Seed_0082: 6894106\n",
      "Seed_0083: 11937361\n",
      "Seed_0084: 10476325\n",
      "Seed_0085: 9435893\n",
      "Seed_0086: 7336878\n",
      "Seed_0087: 8313645\n",
      "Seed_0088: 9190717\n",
      "Seed_0089: 13534242\n",
      "Seed_0090: 15773108\n",
      "Seed_0091: 119971186\n",
      "Seed_0092: 26773711\n",
      "Seed_0093: 12183072\n",
      "Seed_0094: 33228493\n",
      "Seed_0095: 40017150\n",
      "Seed_0096: 101641075\n",
      "Seed_0097: 25333329\n",
      "Seed_0098: 13096526\n",
      "Seed_0099: 6386106\n",
      "Score: 2381984256\n"
     ]
    }
   ],
   "source": [
    "!(g++ main.cpp)\n",
    "# 確率\n",
    "num = 100\n",
    "sum = 0\n",
    "debug = False\n",
    "for i in range(num):\n",
    "#     i += 2\n",
    "    in_path = \"in/{}.txt\".format(str(i).zfill(4))\n",
    "    out_path = \"out/{}.txt\".format(str(i).zfill(4))\n",
    "    if debug == True:\n",
    "        print(\"Seed_{}: \".format(str(i).zfill(4)))\n",
    "        !(./a.out < $in_path > $out_path)\n",
    "    else:\n",
    "        ans = !(./a.out < $in_path > $out_path)\n",
    "        print(\"Seed_{}: \".format(str(i).zfill(4)) + ans[0])\n",
    "        sum += int(ans[0])\n",
    "print(\"Score: \" + str(sum))"
   ]
  },
  {
   "cell_type": "code",
   "execution_count": null,
   "id": "cb5f4c91",
   "metadata": {},
   "outputs": [],
   "source": []
  },
  {
   "cell_type": "code",
   "execution_count": null,
   "id": "0f37bd7e",
   "metadata": {},
   "outputs": [],
   "source": [
    "10246856"
   ]
  },
  {
   "cell_type": "code",
   "execution_count": null,
   "id": "915dfc31",
   "metadata": {},
   "outputs": [],
   "source": []
  },
  {
   "cell_type": "code",
   "execution_count": null,
   "id": "1d7948fe",
   "metadata": {},
   "outputs": [],
   "source": [
    "12 21 32 34 36 91 96"
   ]
  },
  {
   "cell_type": "code",
   "execution_count": 9,
   "id": "7977a588",
   "metadata": {},
   "outputs": [
    {
     "data": {
      "text/plain": [
       "56559885"
      ]
     },
     "execution_count": 9,
     "metadata": {},
     "output_type": "execute_result"
    }
   ],
   "source": [
    "56313530\n",
    "56436959\n",
    "56563222\n",
    "56565228\n",
    "56564361\n",
    "56559885"
   ]
  },
  {
   "cell_type": "code",
   "execution_count": null,
   "id": "5cab2676",
   "metadata": {},
   "outputs": [],
   "source": []
  },
  {
   "cell_type": "code",
   "execution_count": null,
   "id": "9a7c46b2",
   "metadata": {},
   "outputs": [],
   "source": []
  }
 ],
 "metadata": {
  "kernelspec": {
   "display_name": "Python 3",
   "language": "python",
   "name": "python3"
  },
  "language_info": {
   "codemirror_mode": {
    "name": "ipython",
    "version": 3
   },
   "file_extension": ".py",
   "mimetype": "text/x-python",
   "name": "python",
   "nbconvert_exporter": "python",
   "pygments_lexer": "ipython3",
   "version": "3.8.8"
  }
 },
 "nbformat": 4,
 "nbformat_minor": 5
}
