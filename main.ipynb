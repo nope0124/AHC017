{
 "cells": [
  {
   "cell_type": "code",
   "execution_count": 1,
   "id": "d53e896b",
   "metadata": {},
   "outputs": [],
   "source": [
    "from pathlib import Path\n",
    "Path(\"out/\").mkdir(parents=True, exist_ok=True)"
   ]
  },
  {
   "cell_type": "code",
   "execution_count": 27,
   "id": "6f92fc4b",
   "metadata": {
    "scrolled": false
   },
   "outputs": [
    {
     "name": "stdout",
     "output_type": "stream",
     "text": [
      "\u001b[1mmain.cpp:23:29: \u001b[0m\u001b[0;1;35mwarning: \u001b[0m\u001b[1mdefault member initializer for non-static data member is a C++11 extension [-Wc++11-extensions]\u001b[0m\n",
      "    Road_Status road_status = Unconstructed;\n",
      "\u001b[0;1;32m                            ^\n",
      "\u001b[0m\u001b[1mmain.cpp:86:36: \u001b[0m\u001b[0;1;35mwarning: \u001b[0m\u001b[1mrange-based for loop is a C++11 extension [-Wc++11-extensions]\u001b[0m\n",
      "                for(Dijkstra_Edge e: graph[v]){\n",
      "\u001b[0;1;32m                                   ^\n",
      "\u001b[0m2 warnings generated.\n",
      "11735444\n",
      "Score: 0\n"
     ]
    }
   ],
   "source": [
    "!(g++ main.cpp)\n",
    "# 確率\n",
    "num = 1\n",
    "sum = 0\n",
    "debug = True\n",
    "for i in range(num):\n",
    "    in_path = \"in/{}.txt\".format(str(i).zfill(4))\n",
    "    out_path = \"out/{}.txt\".format(str(i).zfill(4))\n",
    "    if debug == True:\n",
    "        !(./a.out < $in_path > $out_path)\n",
    "    else:\n",
    "        ans = !(./a.out < $in_path > $out_path)\n",
    "        print(\"Seed_{}: \".format(str(i).zfill(4)) + ans[0])\n",
    "        sum += int(ans[0])\n",
    "print(\"Score: \" + str(sum))"
   ]
  },
  {
   "cell_type": "code",
   "execution_count": null,
   "id": "cb5f4c91",
   "metadata": {},
   "outputs": [],
   "source": []
  },
  {
   "cell_type": "code",
   "execution_count": null,
   "id": "0dcec7a9",
   "metadata": {},
   "outputs": [],
   "source": []
  }
 ],
 "metadata": {
  "kernelspec": {
   "display_name": "Python 3",
   "language": "python",
   "name": "python3"
  },
  "language_info": {
   "codemirror_mode": {
    "name": "ipython",
    "version": 3
   },
   "file_extension": ".py",
   "mimetype": "text/x-python",
   "name": "python",
   "nbconvert_exporter": "python",
   "pygments_lexer": "ipython3",
   "version": "3.8.8"
  }
 },
 "nbformat": 4,
 "nbformat_minor": 5
}
